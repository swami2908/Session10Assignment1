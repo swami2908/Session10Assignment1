{
 "cells": [
  {
   "cell_type": "markdown",
   "metadata": {},
   "source": [
    "## Session 10 - Assignment 1"
   ]
  },
  {
   "cell_type": "markdown",
   "metadata": {},
   "source": [
    "### Task 1"
   ]
  },
  {
   "cell_type": "markdown",
   "metadata": {},
   "source": [
    "#### 1. Blood glucose levels for obese patients have a mean of 100 with a standard deviation of 15. A researcher thinks that a diet high in raw cornstarch will have a positive effect on blood glucose levels. A sample of 36 patients who have tried the raw cornstarch diet have a mean glucose level of 108. Test the hypothesis that the raw cornstarch had an effect or not."
   ]
  },
  {
   "cell_type": "code",
   "execution_count": 18,
   "metadata": {},
   "outputs": [
    {
     "name": "stdout",
     "output_type": "stream",
     "text": [
      "Z Value is : 0.9993128620620841\n",
      "Computed ZVal is more than Standard Error. Alternate Hypothesis is rejected\n"
     ]
    }
   ],
   "source": [
    "# Using Stats and Math Library\n",
    "\n",
    "import scipy.stats as st\n",
    "import math as mt\n",
    "from scipy.stats import zscore\n",
    "\n",
    "\n",
    "m=100\n",
    "sd=15\n",
    "sample=36\n",
    "samplemean=108\n",
    "standarderror=0.05 \n",
    "\n",
    "zs=(samplemean-m)/(sd/mt.sqrt(sample))\n",
    "\n",
    "zval=st.norm.cdf(zs)\n",
    "\n",
    "print(\"Z Value is : \"+str(zval))\n",
    "\n",
    "print(\"Computed ZVal is more than Standard Error. Alternate Hypothesis is rejected\")"
   ]
  },
  {
   "cell_type": "markdown",
   "metadata": {},
   "source": [
    "#### 2. In one state, 52% of the voters are Republicans, and 48% are Democrats. In a second state, 47% of the voters are Republicans, and 53% are Democrats. Suppose a simple random sample of 100 voters are surveyed from each state. What is the probability that the survey will show a greater percentage of Republican voters in the second state than in the first state?"
   ]
  },
  {
   "cell_type": "code",
   "execution_count": 19,
   "metadata": {},
   "outputs": [
    {
     "name": "stdout",
     "output_type": "stream",
     "text": [
      "Z Value is : -0.7080278164104213\n",
      "Z Score is : 0.9993128620620841\n",
      "The probability that the survey will show a greater percentage of Republican voters in the second state !!!\n"
     ]
    }
   ],
   "source": [
    "# Using Stats and Math Library\n",
    "\n",
    "import scipy.stats as st\n",
    "import math as mt\n",
    "from scipy.stats import zscore\n",
    "\n",
    "\n",
    "s1r,s1d,s2r,s2d=52/100,48/100,47/100,53/100\n",
    "\n",
    "republic_mean=(s1r-s2r)\n",
    "\n",
    "n=100\n",
    "\n",
    "sd = mt.sqrt(((s1r * (1-s1r)) / n) + ((s2r * (1-s2r)) / n))\n",
    "\n",
    "sdr1=s1r * (1-s1r)\n",
    "\n",
    "zval=(0-republic_mean)/(sd)\n",
    "\n",
    "print(\"Z Value is : \"+str(zval))\n",
    "\n",
    "zs=st.norm.cdf(zs)\n",
    "\n",
    "print(\"Z Score is : \"+str(zs))\n",
    "\n",
    "print(\"The probability that the survey will show a greater percentage of Republican voters in the second state !!!\")"
   ]
  },
  {
   "cell_type": "markdown",
   "metadata": {},
   "source": [
    "#### Question 3 - You take the SAT and score 1100. The mean score for the SAT is 1026 and the standard deviation is 209. How well did you score on the test compared to the average test taker?"
   ]
  },
  {
   "cell_type": "code",
   "execution_count": 25,
   "metadata": {},
   "outputs": [
    {
     "name": "stdout",
     "output_type": "stream",
     "text": [
      "Z Value is : 0.35406698564593303\n",
      "Z Score is : 0.6383556584353189\n",
      "Null hypothesis rejected... I have performed better than  63.84 % of the average test taker.\n"
     ]
    }
   ],
   "source": [
    "# Using Math and Stats Library\n",
    "\n",
    "x = 1100\n",
    "import scipy.stats as st\n",
    "import math as mt\n",
    "from scipy.stats import zscore\n",
    "import numpy as np\n",
    "\n",
    "m=1026\n",
    "sd=209\n",
    "samplemean=1100\n",
    "standarderror=0.05\n",
    "\n",
    "zs=(samplemean-m)/(sd)\n",
    "\n",
    "print(\"Z Value is : \"+str(zs))\n",
    "\n",
    "zval=st.norm.cdf(zs)\n",
    "\n",
    "print(\"Z Score is : \"+str(zval))\n",
    "\n",
    "print(\"Null hypothesis rejected... I have performed better than \",np.round(zval*100,2),\"% of the average test taker.\")"
   ]
  },
  {
   "cell_type": "markdown",
   "metadata": {},
   "source": [
    "### Task 2"
   ]
  },
  {
   "cell_type": "markdown",
   "metadata": {},
   "source": [
    "#### Question - 1. Is gender independent of education level? A random sample of 395 people were surveyed # and each person was asked to report the highest education level they obtained. The data that # resulted from the survey is summarized in the following table: # High School Bachelors Masters Ph.d. Total # Female 60 54 46 41 201 # Male 40 44 53 57 194 # Total 100 98 99 98 395 # Question: Are gender and education level dependent at 5% level of significance? In other # words, given the data collected above, is there a relationship between the gender of an # individual and the level of education that they have obtained?"
   ]
  },
  {
   "cell_type": "code",
   "execution_count": 22,
   "metadata": {},
   "outputs": [
    {
     "name": "stdout",
     "output_type": "stream",
     "text": [
      "\n",
      "Chi-Square (Observed)  8.006066246262538\n",
      "\n",
      "Chi-Square Critical (Actual)  7.814727903251178\n",
      "\n",
      "Null Hypothesis Rejected.Eduation Level depends on Gender !!!\n"
     ]
    }
   ],
   "source": [
    "female = [60, 54, 46, 41] \n",
    "male = [40, 44, 53, 57] \n",
    "\n",
    "f_total,m_total,p_total = 201,194,395\n",
    "e_total = [100, 98, 99, 98]\n",
    "significance_level = 0.05\n",
    "sample_size = 4\n",
    "\n",
    "\n",
    "def calc_expected_values(comm_total_lst, seq_total, sample_len):\n",
    "    lst = []\n",
    "    for val in comm_total_lst:\n",
    "        lst.append(val*seq_total/sample_len)\n",
    "    return lst\n",
    "\n",
    "expected_female = calc_expected_values(e_total,f_total,p_total)\n",
    "expected_male = calc_expected_values(e_total,m_total,p_total)\n",
    "\n",
    "\n",
    "dof=sample_size-1\n",
    "\n",
    "# Calculated Chi-Square for given observed and expected values\n",
    "\n",
    "chi_square_observed = st.chisquare((male+female),(expected_male+expected_female)) \n",
    "print(\"\\nChi-Square (Observed) \",chi_square_observed.statistic)\n",
    "\n",
    "chi_square = st.chi2.isf(q=significance_level, df=dof)\n",
    "print(\"\\nChi-Square Critical (Actual) \",chi_square)\n",
    "\n",
    "print(\"\\nNull Hypothesis Rejected.Eduation Level depends on Gender !!!\")"
   ]
  },
  {
   "cell_type": "markdown",
   "metadata": {},
   "source": [
    "#### Question - 2. Using the following data, perform a oneway analysis of variance using α=.05. Write up the # results in APA format. # [Group1: 51, 45, 33, 45, 67] # [Group2: 23, 43, 23, 43, 45] # [Group3: 56, 76, 74, 87, 56]"
   ]
  },
  {
   "cell_type": "code",
   "execution_count": 23,
   "metadata": {},
   "outputs": [
    {
     "name": "stdout",
     "output_type": "stream",
     "text": [
      "\n",
      "Sum of Squares Within (ss_within): 1860.8\n",
      "\n",
      "F-Observed (ms_between/ms_within): 9.747205503009457\n",
      "\n",
      "F-Actual: 3.8852938346523933\n",
      "\n",
      "Null Hypothesis Rejected.Atleast 2 series are different from each other.\n"
     ]
    }
   ],
   "source": [
    "import scipy.stats as st\n",
    "import statistics as sts\n",
    "\n",
    "group_1 = [51, 45, 33, 45, 67]\n",
    "group_2 = [23, 43, 23, 43, 45]\n",
    "group_3 = [56, 76, 74, 87, 56]\n",
    "\n",
    "n=len(group_1) + len(group_2) + len(group_3)\n",
    "k = 3\n",
    "significance_level = 0.05\n",
    "\n",
    "group_1_mean = sts.mean(group_1) \n",
    "group_2_mean = sts.mean(group_2) \n",
    "group_3_mean = sts.mean(group_3) \n",
    "\n",
    "overall_mean = sts.mean(group_1 + group_2 + group_3)\n",
    "overall_mean\n",
    "\n",
    "dof_between = k-1 \n",
    "\n",
    "\n",
    "dof_within= n-k\n",
    "\n",
    "ss_between = (((group_1_mean-overall_mean)**2) + ((group_2_mean-overall_mean)**2) + ((group_3_mean-overall_mean)**2)) * (len(group_1))\n",
    "\n",
    "ms_between = ss_between/dof_between \n",
    "\n",
    "def calc_sum_of_square(sequence, mean): \n",
    "    sum_val = 0\n",
    "    for val in sequence:\n",
    "        sum_val += ((val-mean)**2)\n",
    "    return sum_val\n",
    "\n",
    "ss_within = calc_sum_of_square(group_1, group_1_mean) + calc_sum_of_square(group_2, group_2_mean) + calc_sum_of_square(group_3, group_3_mean)\n",
    "print(\"\\nSum of Squares Within (ss_within):\",ss_within)\n",
    "\n",
    "ms_within = ss_within/dof_within \n",
    "\n",
    "F_observed = ms_between/ms_within #F-Satistic\n",
    "print(\"\\nF-Observed (ms_between/ms_within):\",F_observed)\n",
    "\n",
    "#Calculating F-Critical using given significance level and degree of freedom\n",
    "F_Actual = st.f.ppf(q=1-significance_level, dfn=dof_between, dfd=dof_within) \n",
    "print(\"\\nF-Actual:\",F_Actual)\n",
    "\n",
    "print(\"\\nNull Hypothesis Rejected.Atleast 2 series are different from each other.\")"
   ]
  },
  {
   "cell_type": "markdown",
   "metadata": {},
   "source": [
    "#### Question - 3. Calculate F Test for given 10, 20, 30, 40, 50 and 5,10,15, 20, 25. # For 10, 20, 30, 40, 50:"
   ]
  },
  {
   "cell_type": "code",
   "execution_count": 24,
   "metadata": {},
   "outputs": [
    {
     "name": "stdout",
     "output_type": "stream",
     "text": [
      "\n",
      "F-Critical value using default alpha (value = 0.05) is: 6.388232908695868\n",
      "\n",
      "Actual hypothesis rejected.\n"
     ]
    }
   ],
   "source": [
    "import scipy.stats as st\n",
    "import statistics as sts\n",
    "\n",
    "# Hypothesis Assumptions - H0: No difference in variances HA: difference in variances.\n",
    "\n",
    "lst_1 = [ 10, 20, 30, 40, 50] \n",
    "lst_2 = [ 5, 10, 15, 20, 25] \n",
    "var_lst_1 = sts.variance(lst_1)\n",
    "\n",
    "# Variance of 5, 10, 15, 20, 25\n",
    "\n",
    "var_lst_2 = sts.variance(lst_2)\n",
    "F_observed = var_lst_1/var_lst_2 \n",
    "dof_lst_1 = len(lst_1)-1 \n",
    "dof_lst_2 = len(lst_2)-1 \n",
    "significance_level = 0.05 \n",
    "\n",
    "# F-Table value using default alpha value = 0.05 and calculated degree of freedom\n",
    "\n",
    "F_Critical = st.f.ppf(q=1-significance_level, dfn=dof_lst_1, dfd=dof_lst_2)\n",
    "print(\"\\nF-Critical value using default alpha (value = 0.05) is: \"+str(F_Critical))\n",
    "print(\"\\nActual hypothesis rejected.\")"
   ]
  }
 ],
 "metadata": {
  "kernelspec": {
   "display_name": "Python 3",
   "language": "python",
   "name": "python3"
  },
  "language_info": {
   "codemirror_mode": {
    "name": "ipython",
    "version": 3
   },
   "file_extension": ".py",
   "mimetype": "text/x-python",
   "name": "python",
   "nbconvert_exporter": "python",
   "pygments_lexer": "ipython3",
   "version": "3.7.1"
  }
 },
 "nbformat": 4,
 "nbformat_minor": 2
}
